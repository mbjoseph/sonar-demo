{
 "cells": [
  {
   "cell_type": "markdown",
   "metadata": {},
   "source": [
    "# Extracting MODIS data at sonar pings\n",
    "\n",
    "Now we can extract sea surface temperature and chlorophyll a concentration from MODIS data at the spatial locations and months of sonar pings. "
   ]
  },
  {
   "cell_type": "code",
   "execution_count": 1,
   "metadata": {},
   "outputs": [],
   "source": [
    "import pandas as pd\n",
    "import datetime\n",
    "import numpy as np\n",
    "import os\n",
    "import rasterio\n",
    "import multiprocessing\n",
    "import re"
   ]
  },
  {
   "cell_type": "code",
   "execution_count": 2,
   "metadata": {},
   "outputs": [],
   "source": [
    "def find_month(dataframe):\n",
    "    \"\"\"\n",
    "    Find month(s) contained in a sonar dataframe\n",
    "    (assumes one unique date)\n",
    "\n",
    "    Args:\n",
    "    - 'dataframe' a pandas dataframe with column \"Ping_date\"\n",
    "\n",
    "    Returns:\n",
    "    - month (int) numeric value representing the month data were collected\n",
    "    \"\"\"\n",
    "    date_string = dataframe.Ping_date.unique()[0].strip()\n",
    "    date = datetime.datetime.strptime(date_string, '%Y-%m-%d')\n",
    "    month = date.month\n",
    "    return month"
   ]
  },
  {
   "cell_type": "code",
   "execution_count": 3,
   "metadata": {},
   "outputs": [],
   "source": [
    "def get_raster_path(dataframe, var):\n",
    "    \"\"\"\n",
    "    Construct a path to a raster file\n",
    "\n",
    "    Args: \n",
    "    - dataframe: a pandas dataframe with column \"Ping_date\"\n",
    "    - var: (string) one of \"Chlor\" or \"SST\"\n",
    "    \"\"\"\n",
    "    month = find_month(dataframe)\n",
    "    month_dict = {\n",
    "        '5': 'may', \n",
    "        '6': 'jun', \n",
    "        '7': 'jul', \n",
    "        '8': 'aug', \n",
    "        '9': 'sep'\n",
    "    }\n",
    "    assert var == 'chlor_a' or var == 'sst'\n",
    "    fname = month_dict[str(month)] + \"_2013_\" + var + '.nc'\n",
    "    path = os.path.join('data', 'modis', fname)\n",
    "    return path"
   ]
  },
  {
   "cell_type": "code",
   "execution_count": 4,
   "metadata": {},
   "outputs": [],
   "source": [
    "def extract_raster(dataframe, path, newcol):\n",
    "    \"\"\"\n",
    "    Extract values from raster and add as dataframe column\n",
    "\n",
    "    Args: \n",
    "    - 'dataframe': a pandas dataframe with \"Longitude\" and \"Latitude\"\n",
    "    - 'path': a file path to a raster with values to extract\n",
    "    - 'newcol': (string) new column name for extracted values\n",
    "\n",
    "    Returns: \n",
    "    - dataframe with a new column (newcol) containining raster values\n",
    "    \"\"\"\n",
    "    fullpath = 'NETCDF:' + path + \":\" + newcol\n",
    "    with rasterio.open(fullpath) as src:\n",
    "        x = dataframe.Longitude.values\n",
    "        y = dataframe.Latitude.values\n",
    "        vals = [v for v in src.sample(zip(x, y))]\n",
    "        vals = np.concatenate(vals, axis=0).astype(np.float32)\n",
    "        vals[vals == -32767.0] = np.nan    # -32767 is a missing data value\n",
    "        dataframe[newcol] = vals\n",
    "    return dataframe"
   ]
  },
  {
   "cell_type": "code",
   "execution_count": 5,
   "metadata": {},
   "outputs": [],
   "source": [
    "def augment_df(path, variables = [\"sst\", \"chlor_a\"]):\n",
    "    \"\"\"\n",
    "    Augment dataframe with chlorophyll and SST columns\n",
    "\n",
    "    Args:\n",
    "    - path: path to CSV file with columns \"Longitude\" and \"Latitude\"\n",
    "    - variables: (list) with elements \"Chlor\" and/or \"SST\"\n",
    "\n",
    "    Returns:\n",
    "    - a dataframe with Chlor and/or SST columns\n",
    "    \"\"\"\n",
    "    dataframe = pd.read_csv(path)\n",
    "    for i in range(len(variables)):        \n",
    "        path = get_raster_path(dataframe, variables[i])\n",
    "        dataframe = extract_raster(dataframe, path, variables[i])\n",
    "    dataframe['sst'] *= 0.0049999999\n",
    "    dataframe.drop(columns=['Unnamed: 0'], inplace=True)\n",
    "    return dataframe"
   ]
  },
  {
   "cell_type": "markdown",
   "metadata": {},
   "source": [
    "Having defined some helper functions, we can generate a list of paths to sonar CSV files:"
   ]
  },
  {
   "cell_type": "code",
   "execution_count": 6,
   "metadata": {},
   "outputs": [],
   "source": [
    "csv_files = os.listdir(os.path.join('data', 'summaries'))\n",
    "csv_files.sort()\n",
    "full_csv_paths = [os.path.join('data', 'summaries', f) for f in csv_files]"
   ]
  },
  {
   "cell_type": "markdown",
   "metadata": {},
   "source": [
    "Next, we can use `multiprocessing` to extract the SST and chlorophyll a data for each sonar CSV file in parallel:"
   ]
  },
  {
   "cell_type": "code",
   "execution_count": 7,
   "metadata": {},
   "outputs": [],
   "source": [
    "with multiprocessing.Pool() as pool:\n",
    "    out = pd.concat(list(pool.map(augment_df, full_csv_paths)))"
   ]
  },
  {
   "cell_type": "markdown",
   "metadata": {},
   "source": [
    "Let's peek at the shape and first rows of the final output (one big data frame):"
   ]
  },
  {
   "cell_type": "code",
   "execution_count": 8,
   "metadata": {},
   "outputs": [
    {
     "data": {
      "text/plain": [
       "(12012632, 11)"
      ]
     },
     "execution_count": 8,
     "metadata": {},
     "output_type": "execute_result"
    }
   ],
   "source": [
    "out.shape"
   ]
  },
  {
   "cell_type": "code",
   "execution_count": 9,
   "metadata": {},
   "outputs": [
    {
     "data": {
      "text/html": [
       "<div>\n",
       "<style scoped>\n",
       "    .dataframe tbody tr th:only-of-type {\n",
       "        vertical-align: middle;\n",
       "    }\n",
       "\n",
       "    .dataframe tbody tr th {\n",
       "        vertical-align: top;\n",
       "    }\n",
       "\n",
       "    .dataframe thead th {\n",
       "        text-align: right;\n",
       "    }\n",
       "</style>\n",
       "<table border=\"1\" class=\"dataframe\">\n",
       "  <thead>\n",
       "    <tr style=\"text-align: right;\">\n",
       "      <th></th>\n",
       "      <th>Latitude</th>\n",
       "      <th>Longitude</th>\n",
       "      <th>Ping_date</th>\n",
       "      <th>Ping_time</th>\n",
       "      <th>Ping_milliseconds</th>\n",
       "      <th>wavelength</th>\n",
       "      <th>mean</th>\n",
       "      <th>potential_counts</th>\n",
       "      <th>return_counts</th>\n",
       "      <th>sst</th>\n",
       "      <th>chlor_a</th>\n",
       "    </tr>\n",
       "  </thead>\n",
       "  <tbody>\n",
       "    <tr>\n",
       "      <th>0</th>\n",
       "      <td>47.622585</td>\n",
       "      <td>-122.406807</td>\n",
       "      <td>2013-05-22</td>\n",
       "      <td>15:01:24</td>\n",
       "      <td>948.0</td>\n",
       "      <td>Sv_120</td>\n",
       "      <td>-67.359286</td>\n",
       "      <td>1315</td>\n",
       "      <td>41.0</td>\n",
       "      <td>NaN</td>\n",
       "      <td>NaN</td>\n",
       "    </tr>\n",
       "    <tr>\n",
       "      <th>1</th>\n",
       "      <td>47.622585</td>\n",
       "      <td>-122.406807</td>\n",
       "      <td>2013-05-22</td>\n",
       "      <td>15:01:24</td>\n",
       "      <td>948.0</td>\n",
       "      <td>Sv_38</td>\n",
       "      <td>-66.622249</td>\n",
       "      <td>1315</td>\n",
       "      <td>11.0</td>\n",
       "      <td>NaN</td>\n",
       "      <td>NaN</td>\n",
       "    </tr>\n",
       "    <tr>\n",
       "      <th>2</th>\n",
       "      <td>47.622585</td>\n",
       "      <td>-122.406784</td>\n",
       "      <td>2013-05-22</td>\n",
       "      <td>15:01:23</td>\n",
       "      <td>448.0</td>\n",
       "      <td>Sv_120</td>\n",
       "      <td>-66.714195</td>\n",
       "      <td>1315</td>\n",
       "      <td>41.0</td>\n",
       "      <td>NaN</td>\n",
       "      <td>NaN</td>\n",
       "    </tr>\n",
       "    <tr>\n",
       "      <th>3</th>\n",
       "      <td>47.622585</td>\n",
       "      <td>-122.406784</td>\n",
       "      <td>2013-05-22</td>\n",
       "      <td>15:01:23</td>\n",
       "      <td>448.0</td>\n",
       "      <td>Sv_38</td>\n",
       "      <td>-65.572092</td>\n",
       "      <td>1315</td>\n",
       "      <td>19.0</td>\n",
       "      <td>NaN</td>\n",
       "      <td>NaN</td>\n",
       "    </tr>\n",
       "    <tr>\n",
       "      <th>4</th>\n",
       "      <td>47.622585</td>\n",
       "      <td>-122.406754</td>\n",
       "      <td>2013-05-22</td>\n",
       "      <td>15:01:21</td>\n",
       "      <td>948.0</td>\n",
       "      <td>Sv_120</td>\n",
       "      <td>-66.179431</td>\n",
       "      <td>1315</td>\n",
       "      <td>37.0</td>\n",
       "      <td>NaN</td>\n",
       "      <td>NaN</td>\n",
       "    </tr>\n",
       "  </tbody>\n",
       "</table>\n",
       "</div>"
      ],
      "text/plain": [
       "    Latitude   Longitude    Ping_date  Ping_time  Ping_milliseconds  \\\n",
       "0  47.622585 -122.406807   2013-05-22   15:01:24              948.0   \n",
       "1  47.622585 -122.406807   2013-05-22   15:01:24              948.0   \n",
       "2  47.622585 -122.406784   2013-05-22   15:01:23              448.0   \n",
       "3  47.622585 -122.406784   2013-05-22   15:01:23              448.0   \n",
       "4  47.622585 -122.406754   2013-05-22   15:01:21              948.0   \n",
       "\n",
       "  wavelength       mean  potential_counts  return_counts  sst  chlor_a  \n",
       "0     Sv_120 -67.359286              1315           41.0  NaN      NaN  \n",
       "1      Sv_38 -66.622249              1315           11.0  NaN      NaN  \n",
       "2     Sv_120 -66.714195              1315           41.0  NaN      NaN  \n",
       "3      Sv_38 -65.572092              1315           19.0  NaN      NaN  \n",
       "4     Sv_120 -66.179431              1315           37.0  NaN      NaN  "
      ]
     },
     "execution_count": 9,
     "metadata": {},
     "output_type": "execute_result"
    }
   ],
   "source": [
    "out.head()"
   ]
  },
  {
   "cell_type": "markdown",
   "metadata": {},
   "source": [
    "And last, we will save this as a CSV file."
   ]
  },
  {
   "cell_type": "code",
   "execution_count": 10,
   "metadata": {},
   "outputs": [],
   "source": [
    "out.to_csv(os.path.join('data', 'sonar-with-modis.csv'))"
   ]
  },
  {
   "cell_type": "code",
   "execution_count": null,
   "metadata": {},
   "outputs": [],
   "source": []
  }
 ],
 "metadata": {
  "kernelspec": {
   "display_name": "Python [conda env:earth-analytics-python]",
   "language": "python",
   "name": "conda-env-earth-analytics-python-py"
  },
  "language_info": {
   "codemirror_mode": {
    "name": "ipython",
    "version": 3
   },
   "file_extension": ".py",
   "mimetype": "text/x-python",
   "name": "python",
   "nbconvert_exporter": "python",
   "pygments_lexer": "ipython3",
   "version": "3.6.5"
  }
 },
 "nbformat": 4,
 "nbformat_minor": 2
}
