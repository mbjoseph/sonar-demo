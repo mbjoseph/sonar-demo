{
 "cells": [
  {
   "cell_type": "markdown",
   "metadata": {},
   "source": [
    "# Downloading MODIS sea surface temp and chlorophyll a data\n",
    "\n",
    "This notebook creates a `data/modis` directory if necessary, and then downloads MODIS-based global SST and Chlorophyll a data at 4km. The URLs were copied interactively fom the NASA ocean color website's level 3 data explorer: https://oceancolor.gsfc.nasa.gov/cgi/l3"
   ]
  },
  {
   "cell_type": "code",
   "execution_count": 1,
   "metadata": {},
   "outputs": [],
   "source": [
    "import urllib.request\n",
    "import shutil\n",
    "import os"
   ]
  },
  {
   "cell_type": "code",
   "execution_count": 2,
   "metadata": {},
   "outputs": [],
   "source": [
    "ncdf_dir = os.path.join('data', 'modis')\n",
    "if not os.path.exists(ncdf_dir):\n",
    "    os.makedirs(ncdf_dir)"
   ]
  },
  {
   "cell_type": "code",
   "execution_count": 3,
   "metadata": {},
   "outputs": [],
   "source": [
    "urls = {\n",
    "    'may_2013_sst': 'https://oceandata.sci.gsfc.nasa.gov/cgi/getfile/T20131212013151.L3m_MO_SST_sst_4km.nc', \n",
    "    'jun_2013_sst': 'https://oceandata.sci.gsfc.nasa.gov/cgi/getfile/T20131522013181.L3m_MO_SST_sst_4km.nc', \n",
    "    'jul_2013_sst': 'https://oceandata.sci.gsfc.nasa.gov/cgi/getfile/T20131822013212.L3m_MO_SST_sst_4km.nc', \n",
    "    'aug_2013_sst': 'https://oceandata.sci.gsfc.nasa.gov/cgi/getfile/T20132132013243.L3m_MO_SST_sst_4km.nc', \n",
    "    'sep_2013_sst': 'https://oceandata.sci.gsfc.nasa.gov/cgi/getfile/T20132442013273.L3m_MO_SST_sst_4km.nc', \n",
    "    'may_2013_chlor_a': 'https://oceandata.sci.gsfc.nasa.gov/cgi/getfile/T20131212013151.L3m_MO_CHL_chlor_a_4km.nc', \n",
    "    'jun_2013_chlor_a': 'https://oceandata.sci.gsfc.nasa.gov/cgi/getfile/T20131522013181.L3m_MO_CHL_chlor_a_4km.nc', \n",
    "    'jul_2013_chlor_a': 'https://oceandata.sci.gsfc.nasa.gov/cgi/getfile/T20131822013212.L3m_MO_CHL_chlor_a_4km.nc', \n",
    "    'aug_2013_chlor_a': 'https://oceandata.sci.gsfc.nasa.gov/cgi/getfile/T20132132013243.L3m_MO_CHL_chlor_a_4km.nc', \n",
    "    'sep_2013_chlor_a': 'https://oceandata.sci.gsfc.nasa.gov/cgi/getfile/T20132442013273.L3m_MO_CHL_chlor_a_4km.nc'\n",
    "}"
   ]
  },
  {
   "cell_type": "code",
   "execution_count": 4,
   "metadata": {},
   "outputs": [],
   "source": [
    "for key, value in urls.items():\n",
    "    file_name = os.path.join(ncdf_dir, key + '.nc')\n",
    "    with urllib.request.urlopen(value) as response, open(file_name, 'wb') as out_file:\n",
    "        shutil.copyfileobj(response, out_file)"
   ]
  }
 ],
 "metadata": {
  "kernelspec": {
   "display_name": "Python [conda env:earth-analytics-python]",
   "language": "python",
   "name": "conda-env-earth-analytics-python-py"
  },
  "language_info": {
   "codemirror_mode": {
    "name": "ipython",
    "version": 3
   },
   "file_extension": ".py",
   "mimetype": "text/x-python",
   "name": "python",
   "nbconvert_exporter": "python",
   "pygments_lexer": "ipython3",
   "version": "3.6.5"
  }
 },
 "nbformat": 4,
 "nbformat_minor": 2
}
